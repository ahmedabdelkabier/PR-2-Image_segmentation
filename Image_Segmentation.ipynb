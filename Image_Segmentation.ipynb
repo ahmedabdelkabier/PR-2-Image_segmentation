{
  "nbformat": 4,
  "nbformat_minor": 0,
  "metadata": {
    "colab": {
      "name": "Image_Segmentation.ipynb",
      "provenance": [],
      "collapsed_sections": []
    },
    "kernelspec": {
      "name": "python3",
      "display_name": "Python 3"
    },
    "language_info": {
      "name": "python"
    }
  },
  "cells": [
    {
      "cell_type": "markdown",
      "source": [
        "# *PR-2 Image_Segmentation*"
      ],
      "metadata": {
        "id": "iIPi_EW05xZG"
      }
    },
    {
      "cell_type": "code",
      "source": [
        "import os\n",
        "from PIL import Image\n",
        "import numpy as np\n",
        "import glob\n",
        "from scipy.io import loadmat\n",
        "import natsort"
      ],
      "metadata": {
        "id": "pl9O3oHONnbN"
      },
      "execution_count": null,
      "outputs": []
    },
    {
      "cell_type": "markdown",
      "source": [
        "Mount data from google drive\n"
      ],
      "metadata": {
        "id": "l0Vu1aqD60Ib"
      }
    },
    {
      "cell_type": "code",
      "execution_count": null,
      "metadata": {
        "colab": {
          "base_uri": "https://localhost:8080/"
        },
        "id": "RWSJpsyKqHjH",
        "outputId": "dcc1031c-a2fe-4e34-cb84-86e444e473bc"
      },
      "outputs": [
        {
          "output_type": "stream",
          "name": "stdout",
          "text": [
            "Drive already mounted at /content/drive; to attempt to forcibly remount, call drive.mount(\"/content/drive\", force_remount=True).\n"
          ]
        }
      ],
      "source": [
        "from google.colab import drive\n",
        "drive.mount('/content/drive')"
      ]
    },
    {
      "cell_type": "markdown",
      "source": [
        "# Q1 \n"
      ],
      "metadata": {
        "id": "x4CV0tyBfpHB"
      }
    },
    {
      "cell_type": "markdown",
      "source": [
        "load data images\n"
      ],
      "metadata": {
        "id": "ZJp1Eo8Zht_i"
      }
    },
    {
      "cell_type": "code",
      "source": [
        "def get_all_images(path,_type):\n",
        "    image_list = []\n",
        "    \n",
        "    if _type == 'test':\n",
        "      for index,filename in enumerate(\n",
        "          natsort.natsorted(glob.glob(path + '/*.jpg'))):\n",
        "\n",
        "          if index < 50:            \n",
        "            Im = Image.open(filename)\n",
        "            image_list.append(Im)\n",
        "          else:\n",
        "            break\n",
        "  \n",
        "    elif _type == 'train':\n",
        "      for index,filename in enumerate(glob.glob(path + '/*.jpg')):\n",
        "        Im = Image.open(filename)\n",
        "        image_list.append(Im)\n",
        "    \n",
        "    else:\n",
        "      for index,filename in enumerate(glob.glob(path + '/*.jpg')):\n",
        "        Im = Image.open(filename)\n",
        "        image_list.append(Im)\n",
        "    return image_list"
      ],
      "metadata": {
        "id": "kjsnea0tFDAr"
      },
      "execution_count": null,
      "outputs": []
    },
    {
      "cell_type": "markdown",
      "source": [
        "load data ground truth"
      ],
      "metadata": {
        "id": "jvb0GjhfhyFb"
      }
    },
    {
      "cell_type": "code",
      "source": [
        "from numpy.lib.npyio import load\n",
        "def get_ground_truth(path,_type):\n",
        "    ground_truth = []\n",
        "    \n",
        "    if _type == 'test':\n",
        "      for index,filename in enumerate(\n",
        "          natsort.natsorted(glob.glob(path + '/*.mat'))):\n",
        "\n",
        "        if index < 50:            \n",
        "          data = loadmat(filename)\n",
        "          ground_truth.append(data)\n",
        "        else:\n",
        "          break\n",
        "  \n",
        "    elif _type == 'train':\n",
        "      for index,filename in enumerate(glob.glob(path + '/*.mat')):\n",
        "        data = loadmat(filename)\n",
        "        ground_truth.append(data)\n",
        "    \n",
        "    else:\n",
        "      for index,filename in enumerate(glob.glob(path + '/*.mat')):\n",
        "        data = loadmat(filename)\n",
        "        ground_truth.append(data)\n",
        "    return ground_truth"
      ],
      "metadata": {
        "id": "83xBQ4FhhWr4"
      },
      "execution_count": null,
      "outputs": []
    },
    {
      "cell_type": "code",
      "source": [
        "def generate_data_matrix(path,_type):\n",
        "  images = get_all_images(path,_type)\n",
        "\n",
        "  images_vector = []\n",
        "  for img in images:\n",
        "      images_vector.append(np.array(img).ravel())\n",
        "\n",
        "  images_data = np.asarray(images_vector , dtype = \"int32\")\n",
        "\n",
        "  return images_data"
      ],
      "metadata": {
        "id": "25peL9s2bES4"
      },
      "execution_count": null,
      "outputs": []
    },
    {
      "cell_type": "code",
      "source": [
        "def generate_groundtruth_data_matrix(path,_type):\n",
        "  ground_truth = get_ground_truth(path,_type)\n",
        " \n",
        "  ground_truth_vector = []\n",
        "  for data in ground_truth:\n",
        "      ground_truth_vector.append(data)\n",
        " \n",
        "  print(len(ground_truth_vector))\n",
        "  #ground_truth_data = np.asarray(ground_truth_vector , dtype=\"uint16\")\n",
        "  return ground_truth_vector"
      ],
      "metadata": {
        "id": "iulVr1EDiYhd"
      },
      "execution_count": null,
      "outputs": []
    },
    {
      "cell_type": "code",
      "source": [
        "sub_images_path = '/content/drive/MyDrive/BSR/BSDS500/data/images'\n",
        "sub_groundtruth_path = '/content/drive/MyDrive/BSR/BSDS500/data/groundTruth'"
      ],
      "metadata": {
        "id": "zV7LVUaDVy0b"
      },
      "execution_count": null,
      "outputs": []
    },
    {
      "cell_type": "code",
      "source": [
        "test_images = generate_data_matrix(sub_images_path + '/test','test')\n",
        "train_images = generate_data_matrix(sub_images_path + '/train','train')\n",
        "val_images = generate_data_matrix(sub_images_path + '/val','val')\n",
        "print(test_images.shape)\n",
        "print(train_images.shape)\n",
        "print(val_images.shape)"
      ],
      "metadata": {
        "colab": {
          "base_uri": "https://localhost:8080/"
        },
        "id": "HBfPp_N4YXok",
        "outputId": "f9c7a450-595f-45ec-ba61-c3cb527c6df2"
      },
      "execution_count": null,
      "outputs": [
        {
          "output_type": "stream",
          "name": "stdout",
          "text": [
            "(50, 463203)\n",
            "(200, 463203)\n",
            "(100, 463203)\n"
          ]
        }
      ]
    },
    {
      "cell_type": "code",
      "source": [
        "ground_truth_test = generate_groundtruth_data_matrix(sub_groundtruth_path + '/test','test')\n",
        "ground_truth_train = generate_groundtruth_data_matrix(sub_groundtruth_path + '/train','train')\n",
        "ground_truth_val = generate_groundtruth_data_matrix(sub_groundtruth_path + '/val','val')"
      ],
      "metadata": {
        "colab": {
          "base_uri": "https://localhost:8080/"
        },
        "id": "3nen0HO8hOX8",
        "outputId": "b410bd21-f160-4c73-aec7-80823cf4cc91"
      },
      "execution_count": null,
      "outputs": [
        {
          "output_type": "stream",
          "name": "stdout",
          "text": [
            "50\n",
            "200\n",
            "100\n"
          ]
        }
      ]
    },
    {
      "cell_type": "markdown",
      "source": [
        "# Q2"
      ],
      "metadata": {
        "id": "Ke7bI6_OgZpu"
      }
    },
    {
      "cell_type": "code",
      "source": [
        "ground_truth_test[0]['groundTruth']"
      ],
      "metadata": {
        "id": "aYvqAsdcgeuu",
        "colab": {
          "base_uri": "https://localhost:8080/"
        },
        "outputId": "c70214bd-edbb-4874-d2a8-def067c56e22"
      },
      "execution_count": null,
      "outputs": [
        {
          "output_type": "execute_result",
          "data": {
            "text/plain": [
              "array([[array([[(array([[ 1,  1,  1, ...,  1,  1,  1],\n",
              "                       [ 1,  1,  1, ...,  1,  1,  1],\n",
              "                       [ 1,  1,  1, ...,  1,  1,  1],\n",
              "                       ...,\n",
              "                       [36, 36, 36, ..., 36, 36, 36],\n",
              "                       [36, 36, 36, ..., 36, 36, 36],\n",
              "                       [36, 36, 36, ..., 36, 36, 36]], dtype=uint16), array([[0, 0, 0, ..., 0, 0, 0],\n",
              "                       [0, 0, 0, ..., 0, 0, 0],\n",
              "                       [0, 0, 0, ..., 0, 0, 0],\n",
              "                       ...,\n",
              "                       [0, 0, 0, ..., 0, 0, 0],\n",
              "                       [0, 0, 0, ..., 0, 0, 0],\n",
              "                       [0, 0, 0, ..., 0, 0, 0]], dtype=uint8))                                       ]],\n",
              "              dtype=[('Segmentation', 'O'), ('Boundaries', 'O')])                                       ,\n",
              "        array([[(array([[ 1,  1,  1, ...,  1,  1,  1],\n",
              "                       [ 1,  1,  1, ...,  1,  1,  1],\n",
              "                       [ 1,  1,  1, ...,  1,  1,  1],\n",
              "                       ...,\n",
              "                       [11, 11, 11, ..., 11, 11, 11],\n",
              "                       [11, 11, 11, ..., 11, 11, 11],\n",
              "                       [11, 11, 11, ..., 11, 11, 11]], dtype=uint16), array([[0, 0, 0, ..., 0, 0, 0],\n",
              "                       [0, 0, 0, ..., 0, 0, 0],\n",
              "                       [0, 0, 0, ..., 0, 0, 0],\n",
              "                       ...,\n",
              "                       [0, 0, 0, ..., 0, 0, 0],\n",
              "                       [0, 0, 0, ..., 0, 0, 0],\n",
              "                       [0, 0, 0, ..., 0, 0, 0]], dtype=uint8))                                       ]],\n",
              "              dtype=[('Segmentation', 'O'), ('Boundaries', 'O')])                                       ,\n",
              "        array([[(array([[ 1,  1,  1, ...,  1,  1,  1],\n",
              "                       [ 1,  1,  1, ...,  1,  1,  1],\n",
              "                       [ 1,  1,  1, ...,  1,  1,  1],\n",
              "                       ...,\n",
              "                       [14, 14, 14, ..., 14, 14, 14],\n",
              "                       [14, 14, 14, ..., 14, 14, 14],\n",
              "                       [14, 14, 14, ..., 14, 14, 14]], dtype=uint16), array([[0, 0, 0, ..., 0, 0, 0],\n",
              "                       [0, 0, 0, ..., 0, 0, 0],\n",
              "                       [0, 0, 0, ..., 0, 0, 0],\n",
              "                       ...,\n",
              "                       [0, 0, 0, ..., 0, 0, 0],\n",
              "                       [0, 0, 0, ..., 0, 0, 0],\n",
              "                       [0, 0, 0, ..., 0, 0, 0]], dtype=uint8))                                       ]],\n",
              "              dtype=[('Segmentation', 'O'), ('Boundaries', 'O')])                                       ,\n",
              "        array([[(array([[1, 1, 1, ..., 1, 1, 1],\n",
              "                       [1, 1, 1, ..., 1, 1, 1],\n",
              "                       [1, 1, 1, ..., 1, 1, 1],\n",
              "                       ...,\n",
              "                       [6, 6, 6, ..., 6, 6, 6],\n",
              "                       [6, 6, 6, ..., 6, 6, 6],\n",
              "                       [6, 6, 6, ..., 6, 6, 6]], dtype=uint16), array([[0, 0, 0, ..., 0, 0, 0],\n",
              "                       [0, 0, 0, ..., 0, 0, 0],\n",
              "                       [0, 0, 0, ..., 0, 0, 0],\n",
              "                       ...,\n",
              "                       [0, 0, 0, ..., 0, 0, 0],\n",
              "                       [0, 0, 0, ..., 0, 0, 0],\n",
              "                       [0, 0, 0, ..., 0, 0, 0]], dtype=uint8))                                 ]],\n",
              "              dtype=[('Segmentation', 'O'), ('Boundaries', 'O')])                                 ,\n",
              "        array([[(array([[1, 1, 1, ..., 1, 1, 1],\n",
              "                       [1, 1, 1, ..., 1, 1, 1],\n",
              "                       [1, 1, 1, ..., 1, 1, 1],\n",
              "                       ...,\n",
              "                       [9, 9, 9, ..., 9, 9, 9],\n",
              "                       [9, 9, 9, ..., 9, 9, 9],\n",
              "                       [9, 9, 9, ..., 9, 9, 9]], dtype=uint16), array([[0, 0, 0, ..., 0, 0, 0],\n",
              "                       [0, 0, 0, ..., 0, 0, 0],\n",
              "                       [0, 0, 0, ..., 0, 0, 0],\n",
              "                       ...,\n",
              "                       [0, 0, 0, ..., 0, 0, 0],\n",
              "                       [0, 0, 0, ..., 0, 0, 0],\n",
              "                       [0, 0, 0, ..., 0, 0, 0]], dtype=uint8))                                 ]],\n",
              "              dtype=[('Segmentation', 'O'), ('Boundaries', 'O')])                                 ]],\n",
              "      dtype=object)"
            ]
          },
          "metadata": {},
          "execution_count": 44
        }
      ]
    }
  ]
}