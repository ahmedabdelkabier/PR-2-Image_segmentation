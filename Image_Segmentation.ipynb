{
  "nbformat": 4,
  "nbformat_minor": 0,
  "metadata": {
    "colab": {
      "name": "Image_Segmentation.ipynb",
      "provenance": [],
      "collapsed_sections": []
    },
    "kernelspec": {
      "name": "python3",
      "display_name": "Python 3"
    },
    "language_info": {
      "name": "python"
    }
  },
  "cells": [
    {
      "cell_type": "markdown",
      "source": [
        "# PR-2 Image_Segmentation "
      ],
      "metadata": {
        "id": "iIPi_EW05xZG"
      }
    },
    {
      "cell_type": "code",
      "source": [
        "import numpy as np"
      ],
      "metadata": {
        "id": "pl9O3oHONnbN"
      },
      "execution_count": null,
      "outputs": []
    },
    {
      "cell_type": "markdown",
      "source": [
        "Mount data from google drive\n"
      ],
      "metadata": {
        "id": "l0Vu1aqD60Ib"
      }
    },
    {
      "cell_type": "code",
      "execution_count": null,
      "metadata": {
        "colab": {
          "base_uri": "https://localhost:8080/"
        },
        "id": "RWSJpsyKqHjH",
        "outputId": "4cde9c29-e844-48a5-caae-eefb69113458"
      },
      "outputs": [
        {
          "output_type": "stream",
          "name": "stdout",
          "text": [
            "Drive already mounted at /content/drive; to attempt to forcibly remount, call drive.mount(\"/content/drive\", force_remount=True).\n"
          ]
        }
      ],
      "source": [
        "from google.colab import drive\n",
        "drive.mount('/content/drive')"
      ]
    },
    {
      "cell_type": "code",
      "source": [
        "def load_images(path,_type):\n",
        "    if _type == \"test\":\n",
        "      test_images = []\n",
        "    elif _type == \"train\":\n",
        "      train_images = []\n",
        "    else:\n",
        "      val_images = []"
      ],
      "metadata": {
        "id": "kjsnea0tFDAr"
      },
      "execution_count": null,
      "outputs": []
    },
    {
      "cell_type": "code",
      "source": [
        "def visualize(img):\n",
        "  '''\n",
        "  reads an image and display \n",
        "  with its associated ground truth segmentation(s).\n",
        "  '''\n",
        "  pass"
      ],
      "metadata": {
        "id": "I8uerbYyL3zv"
      },
      "execution_count": null,
      "outputs": []
    },
    {
      "cell_type": "code",
      "source": [
        "def "
      ],
      "metadata": {
        "id": "FUrbLq5mL4tx"
      },
      "execution_count": null,
      "outputs": []
    }
  ]
}